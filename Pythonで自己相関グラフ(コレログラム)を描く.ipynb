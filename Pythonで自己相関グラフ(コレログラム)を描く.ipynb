{
 "cells": [
  {
   "cell_type": "markdown",
   "metadata": {},
   "source": [
    "# Pythonで自己相関グラフ(コレログラム)を描く\n",
    "\n",
    "時系列分析で目にする自己相関グラフですが、Pythonを用いてこれを描く方法がいくつかあります。\n",
    "\n",
    "ここでは、\n",
    "\n",
    "* 関数を自作して自己相関を求め、Matplotlibのpyplot.stemを使う方法\n",
    "* Statsmodelsのplot_acfを使う方法\n",
    "* Pandasのautocorrelation_plotを使う方法\n",
    "* Matplotlibのpyplot.acorrを使う方法\n",
    "\n",
    "を紹介します。\n",
    "\n",
    "## グラフで使うデータを作る\n",
    "まずはじめにnumpyを使って時系列データを作ります。\n",
    "\n",
    "わかりやすいデータにしておきたいので、1から10を3回繰り返す1次元arrayを作ります。"
   ]
  },
  {
   "cell_type": "code",
   "execution_count": 1,
   "metadata": {},
   "outputs": [],
   "source": [
    "import numpy as np\n",
    "a = np.arange(1,11)\n",
    "b = np.tile(a, 3)"
   ]
  },
  {
   "cell_type": "code",
   "execution_count": 2,
   "metadata": {
    "scrolled": true
   },
   "outputs": [
    {
     "data": {
      "text/plain": [
       "array([ 1,  2,  3,  4,  5,  6,  7,  8,  9, 10,  1,  2,  3,  4,  5,  6,  7,\n",
       "        8,  9, 10,  1,  2,  3,  4,  5,  6,  7,  8,  9, 10])"
      ]
     },
     "execution_count": 2,
     "metadata": {},
     "output_type": "execute_result"
    }
   ],
   "source": [
    "b"
   ]
  },
  {
   "cell_type": "markdown",
   "metadata": {},
   "source": [
    "## Matplotlibのpyplot.stemを使う方法\n",
    "\n",
    "ラグが$k$のデータとの自己相関$r_k$は以下の式で求められます。\n",
    "\n",
    "$$r_{k} = \\frac{\\sum\\limits_{t=k+1}^T (y_{t}-\\bar{y})(y_{t-k}-\\bar{y})}\n",
    " {\\sum\\limits_{t=1}^T (y_{t}-\\bar{y})^2}$$\n",
    " \n",
    "ここで$T$は含まれる時系列データの数を、$\\bar{y}$は時系列データ全体の平均を表しています。\n",
    "\n",
    "まずはじめにラグが$k$のデータとの自己相関を求める`autocorrelation`関数を作ります。"
   ]
  },
  {
   "cell_type": "code",
   "execution_count": 3,
   "metadata": {},
   "outputs": [],
   "source": [
    "def autocorrelation(data, k):\n",
    "    \"\"\"Returns the autocorrelation of the *k*th lag in a time series data.\n",
    "    \n",
    "    Parameters\n",
    "    ----------\n",
    "    data : one dimentional numpy array\n",
    "    k : the *k*th lag in the time series data (index starts at 0)\n",
    "    \"\"\"\n",
    "    \n",
    "    # yの平均\n",
    "    y_avg = np.mean(data)\n",
    "    \n",
    "    # 分子の計算\n",
    "    sum_of_covariance = 0\n",
    "    for i in range(k+1, 30):\n",
    "        covariance = ( data[i] - y_avg ) * ( data[i-(k+1)] - y_avg )\n",
    "        sum_of_covariance += covariance\n",
    "    \n",
    "    # 分母の計算\n",
    "    sum_of_denominator = 0\n",
    "    for u in range(30):\n",
    "        denominator = ( data[u] - y_avg )**2\n",
    "        sum_of_denominator += denominator\n",
    "    \n",
    "    return sum_of_covariance / sum_of_denominator"
   ]
  },
  {
   "cell_type": "markdown",
   "metadata": {},
   "source": [
    "これでラグが$k$のデータとの自己相関を出力することができるようになりました。\n",
    "\n",
    "ひとつ注意しなければいけないのは、numpyのarrayは多くのデータと同様に0から数え始めるので、ここでは$k$の値が先程の式より1つ小さくなります。\n",
    "\n",
    "4番目のラグ、9番目のラグとの自己相関を求めてみます。"
   ]
  },
  {
   "cell_type": "code",
   "execution_count": 4,
   "metadata": {},
   "outputs": [
    {
     "data": {
      "text/plain": [
       "-0.4292929292929293"
      ]
     },
     "execution_count": 4,
     "metadata": {},
     "output_type": "execute_result"
    }
   ],
   "source": [
    "autocorrelation(b, 4)"
   ]
  },
  {
   "cell_type": "code",
   "execution_count": 5,
   "metadata": {},
   "outputs": [
    {
     "data": {
      "text/plain": [
       "0.6666666666666666"
      ]
     },
     "execution_count": 5,
     "metadata": {},
     "output_type": "execute_result"
    }
   ],
   "source": [
    "autocorrelation(b, 9)"
   ]
  },
  {
   "cell_type": "markdown",
   "metadata": {},
   "source": [
    "次に自己相関のグラフ化に移ります。\n",
    "\n",
    "グラフ化するにはそれぞれの自己相関が必要なので、`acorr_data`というリストに先程の関数を使って全ての自己相関を入れていきます。\n",
    "\n",
    "このときに、グラフ上ではラグのない自身との相関を1として表示させたいので`acorr_data`に「1」を最初に入れておきます。"
   ]
  },
  {
   "cell_type": "code",
   "execution_count": 6,
   "metadata": {
    "scrolled": true
   },
   "outputs": [],
   "source": [
    "acorr_data = [1]\n",
    "for i in range(29):  # ラグをとったデータは29個あるのでrange(29)となります。\n",
    "    acorr_data.append(autocorrelation(b, i))"
   ]
  },
  {
   "cell_type": "markdown",
   "metadata": {},
   "source": [
    "後で使いやすいように`acorr_data`をnumpyのarrayに変換しておきます。"
   ]
  },
  {
   "cell_type": "code",
   "execution_count": 7,
   "metadata": {},
   "outputs": [],
   "source": [
    "acorr_data = np.asarray(acorr_data)"
   ]
  },
  {
   "cell_type": "code",
   "execution_count": 8,
   "metadata": {},
   "outputs": [
    {
     "data": {
      "text/plain": [
       "array([ 1.        ,  0.53636364,  0.15757576, -0.13232323, -0.32929293,\n",
       "       -0.42929293, -0.42828283, -0.32222222, -0.10707071,  0.22121212,\n",
       "        0.66666667,  0.38484848,  0.14747475, -0.04141414, -0.17777778,\n",
       "       -0.25757576, -0.27676768, -0.23131313, -0.11717172,  0.06969697,\n",
       "        0.33333333,  0.23333333,  0.13737374,  0.04949495, -0.02626263,\n",
       "       -0.08585859, -0.12525253, -0.14040404, -0.12727273, -0.08181818])"
      ]
     },
     "execution_count": 8,
     "metadata": {},
     "output_type": "execute_result"
    }
   ],
   "source": [
    "acorr_data"
   ]
  },
  {
   "cell_type": "markdown",
   "metadata": {},
   "source": [
    "次にMatplotlibを使ってこれをグラフ化します。\n",
    "\n",
    "ここではMatplotlibの[Stem Plot](https://matplotlib.org/3.1.1/api/_as_gen/matplotlib.pyplot.stem.html)と呼ばれるグラフを使います。"
   ]
  },
  {
   "cell_type": "code",
   "execution_count": 9,
   "metadata": {},
   "outputs": [
    {
     "data": {
      "text/plain": [
       "<StemContainer object of 3 artists>"
      ]
     },
     "execution_count": 9,
     "metadata": {},
     "output_type": "execute_result"
    },
    {
     "data": {
      "image/png": "[encoded data removed]",
      "text/plain": [
       "<Figure size 432x288 with 1 Axes>"
      ]
     },
     "metadata": {
      "needs_background": "light"
     },
     "output_type": "display_data"
    }
   ],
   "source": [
    "%matplotlib inline\n",
    "import matplotlib.pyplot as plt\n",
    "plt.stem(np.arange(30), acorr_data, use_line_collection=True)"
   ]
  },
  {
   "cell_type": "markdown",
   "metadata": {},
   "source": [
    "この`plt.stem`の`use_line_collection`というパラメータは棒の部分の表示の高速化のためのもので、必須ではありません。\n",
    "\n",
    "このグラフでは、$r_0=1$としているので、横軸の$k$の値は最初の式と一致します。\n",
    "\n",
    "## Statsmodelsのplot_acfを使う方法\n",
    "\n",
    "上の例では自己相関を求める関数を自作して`b`の自己相関を求め、それらの値を用いてStem Plotを使ってグラフを描きました。\n",
    "\n",
    "Statsmodelsの`plot_acf`[(リンク)](https://www.statsmodels.org/stable/generated/statsmodels.graphics.tsaplots.plot_acf.html)を使うことでこれらを一度に行うことができます。"
   ]
  },
  {
   "cell_type": "code",
   "execution_count": 10,
   "metadata": {
    "scrolled": false
   },
   "outputs": [
    {
     "data": {
      "image/png": "[encoded data removed]",
      "text/plain": [
       "<Figure size 432x288 with 1 Axes>"
      ]
     },
     "metadata": {
      "needs_background": "light"
     },
     "output_type": "display_data"
    }
   ],
   "source": [
    "import statsmodels.graphics.api as smg\n",
    "from statsmodels.graphics.tsaplots import plot_acf\n",
    "plot_acf(b, lags=29);\n",
    "# 最後のセミコロンは、statsmodelが2つの同じグラフを描くのを防ぐために書いています。\n",
    "# 参考リンク: https://github.com/statsmodels/statsmodels/issues/1265#issuecomment-383336489\n",
    "# plt.show() という行を付け加えることで防ぐこともできます。\n",
    "# 参考リンク: https://momonoki2017.blogspot.com/2018/03/python7.html"
   ]
  },
  {
   "cell_type": "markdown",
   "metadata": {},
   "source": [
    "グラフに表示されている薄い青の帯はBartlett’s formulaを用いた95%信頼区間です。\n",
    "\n",
    "`alpha`のパラメータを指定することで信頼区間の幅を変えることができます。\n",
    "\n",
    "## Pandasのautocorrelation_plotを使う方法\n",
    "\n",
    "Statsmodelsの`plot_acf`と同様に、Pandasの`autocorrelation_plot`[(リンク)](https://pandas.pydata.org/pandas-docs/stable/user_guide/visualization.html#autocorrelation-plot)を使うことで自己相関グラフを描くことができます。\n",
    "\n",
    "Pandasではnumpyの1次元arrayをPandasのSeriesに変換する必要があります。"
   ]
  },
  {
   "cell_type": "code",
   "execution_count": 11,
   "metadata": {
    "scrolled": true
   },
   "outputs": [
    {
     "data": {
      "text/plain": [
       "<matplotlib.axes._subplots.AxesSubplot at 0x236c5762ba8>"
      ]
     },
     "execution_count": 11,
     "metadata": {},
     "output_type": "execute_result"
    },
    {
     "data": {
      "image/png": "[encoded data removed]",
      "text/plain": [
       "<Figure size 432x288 with 1 Axes>"
      ]
     },
     "metadata": {
      "needs_background": "light"
     },
     "output_type": "display_data"
    }
   ],
   "source": [
    "import pandas as pd\n",
    "from pandas.plotting import autocorrelation_plot\n",
    "autocorrelation_plot(pd.Series(b))"
   ]
  },
  {
   "cell_type": "markdown",
   "metadata": {},
   "source": [
    "グラフの点線に挟まれている範囲は99%の信頼区間、実線に挟まれている範囲は95%の信頼区間を表しています。\n",
    "\n",
    "## Matplotlibのpyplot.acorrを使う方法\n",
    "\n",
    "Matplotlibの`pyplot.acorr`[(リンク)](https://matplotlib.org/3.1.1/api/_as_gen/matplotlib.pyplot.acorr.html)を使うことで、StatsmodelsやPandasと同様にデータから直接グラフを描くことができます。"
   ]
  },
  {
   "cell_type": "code",
   "execution_count": 12,
   "metadata": {
    "scrolled": false
   },
   "outputs": [
    {
     "data": {
      "text/plain": [
       "(array([-29, -28, -27, -26, -25, -24, -23, -22, -21, -20, -19, -18, -17,\n",
       "        -16, -15, -14, -13, -12, -11, -10,  -9,  -8,  -7,  -6,  -5,  -4,\n",
       "         -3,  -2,  -1,   0,   1,   2,   3,   4,   5,   6,   7,   8,   9,\n",
       "         10,  11,  12,  13,  14,  15,  16,  17,  18,  19,  20,  21,  22,\n",
       "         23,  24,  25,  26,  27,  28,  29]),\n",
       " array([0.00865801, 0.02510823, 0.04848485, 0.07792208, 0.11255411,\n",
       "        0.15151516, 0.19393939, 0.23896104, 0.2857143 , 0.33333334,\n",
       "        0.3030303 , 0.28917748, 0.29090908, 0.3073593 , 0.33766234,\n",
       "        0.3809524 , 0.43636364, 0.5030303 , 0.5800866 , 0.6666667 ,\n",
       "        0.5974026 , 0.55324674, 0.53333336, 0.5367965 , 0.56277055,\n",
       "        0.6103896 , 0.6787879 , 0.76709956, 0.87445885, 1.        ,\n",
       "        0.87445885, 0.76709956, 0.6787879 , 0.6103896 , 0.56277055,\n",
       "        0.5367965 , 0.53333336, 0.55324674, 0.5974026 , 0.6666667 ,\n",
       "        0.5800866 , 0.5030303 , 0.43636364, 0.3809524 , 0.33766234,\n",
       "        0.3073593 , 0.29090908, 0.28917748, 0.3030303 , 0.33333334,\n",
       "        0.2857143 , 0.23896104, 0.19393939, 0.15151516, 0.11255411,\n",
       "        0.07792208, 0.04848485, 0.02510823, 0.00865801], dtype=float32),\n",
       " <matplotlib.collections.LineCollection at 0x236c5809f98>,\n",
       " <matplotlib.lines.Line2D at 0x236c5733eb8>)"
      ]
     },
     "execution_count": 12,
     "metadata": {},
     "output_type": "execute_result"
    },
    {
     "data": {
      "image/png": "[encoded data removed]",
      "text/plain": [
       "<Figure size 432x288 with 1 Axes>"
      ]
     },
     "metadata": {
      "needs_background": "light"
     },
     "output_type": "display_data"
    }
   ],
   "source": [
    "# plt.acorr(b, maxlags=None)\n",
    "# 上記コードで実行するとエラーになります。\n",
    "# データをfloatに変えることでエラーを回避することができます。\n",
    "plt.acorr(b.astype('f'), maxlags=None)"
   ]
  },
  {
   "cell_type": "markdown",
   "metadata": {},
   "source": [
    "見てわかる通り、今までのグラフとは形が違います。\n",
    "\n",
    "これは`pyplot.acorr`が[信号処理を念頭においた関数だから](https://stackoverflow.com/a/27558293)とのことです。\n",
    "\n",
    "`b`のデータから`b`の平均を引いたものを引数として与えることで先程までのグラフと縦軸の値を統一することができます。"
   ]
  },
  {
   "cell_type": "code",
   "execution_count": 13,
   "metadata": {
    "scrolled": false
   },
   "outputs": [
    {
     "data": {
      "text/plain": [
       "(array([-29, -28, -27, -26, -25, -24, -23, -22, -21, -20, -19, -18, -17,\n",
       "        -16, -15, -14, -13, -12, -11, -10,  -9,  -8,  -7,  -6,  -5,  -4,\n",
       "         -3,  -2,  -1,   0,   1,   2,   3,   4,   5,   6,   7,   8,   9,\n",
       "         10,  11,  12,  13,  14,  15,  16,  17,  18,  19,  20,  21,  22,\n",
       "         23,  24,  25,  26,  27,  28,  29]),\n",
       " array([-0.08181818, -0.12727273, -0.14040405, -0.12525253, -0.08585858,\n",
       "        -0.02626263,  0.04949495,  0.13737373,  0.23333333,  0.33333334,\n",
       "         0.06969697, -0.11717172, -0.23131312, -0.27676767, -0.25757575,\n",
       "        -0.17777778, -0.04141414,  0.14747475,  0.38484848,  0.6666667 ,\n",
       "         0.22121212, -0.10707071, -0.32222223, -0.42828283, -0.42929292,\n",
       "        -0.32929292, -0.13232324,  0.15757576,  0.53636366,  1.        ,\n",
       "         0.53636366,  0.15757576, -0.13232324, -0.32929292, -0.42929292,\n",
       "        -0.42828283, -0.32222223, -0.10707071,  0.22121212,  0.6666667 ,\n",
       "         0.38484848,  0.14747475, -0.04141414, -0.17777778, -0.25757575,\n",
       "        -0.27676767, -0.23131312, -0.11717172,  0.06969697,  0.33333334,\n",
       "         0.23333333,  0.13737373,  0.04949495, -0.02626263, -0.08585858,\n",
       "        -0.12525253, -0.14040405, -0.12727273, -0.08181818], dtype=float32),\n",
       " <matplotlib.collections.LineCollection at 0x236c58779b0>,\n",
       " <matplotlib.lines.Line2D at 0x236c58486d8>)"
      ]
     },
     "execution_count": 13,
     "metadata": {},
     "output_type": "execute_result"
    },
    {
     "data": {
      "image/png": "[encoded data removed]",
      "text/plain": [
       "<Figure size 432x288 with 1 Axes>"
      ]
     },
     "metadata": {
      "needs_background": "light"
     },
     "output_type": "display_data"
    }
   ],
   "source": [
    "plt.acorr(b.astype('f')-b.mean(), maxlags=None)"
   ]
  },
  {
   "cell_type": "markdown",
   "metadata": {},
   "source": [
    "Axesの`set_xlim`([リンク](https://matplotlib.org/3.1.1/api/_as_gen/matplotlib.axes.Axes.set_xlim.html#matplotlib.axes.Axes.set_xlim))を使うことで表示させるx軸の範囲を指定することができます。"
   ]
  },
  {
   "cell_type": "code",
   "execution_count": 14,
   "metadata": {},
   "outputs": [
    {
     "data": {
      "text/plain": [
       "(array([-29, -28, -27, -26, -25, -24, -23, -22, -21, -20, -19, -18, -17,\n",
       "        -16, -15, -14, -13, -12, -11, -10,  -9,  -8,  -7,  -6,  -5,  -4,\n",
       "         -3,  -2,  -1,   0,   1,   2,   3,   4,   5,   6,   7,   8,   9,\n",
       "         10,  11,  12,  13,  14,  15,  16,  17,  18,  19,  20,  21,  22,\n",
       "         23,  24,  25,  26,  27,  28,  29]),\n",
       " array([-0.08181818, -0.12727273, -0.14040405, -0.12525253, -0.08585858,\n",
       "        -0.02626263,  0.04949495,  0.13737373,  0.23333333,  0.33333334,\n",
       "         0.06969697, -0.11717172, -0.23131312, -0.27676767, -0.25757575,\n",
       "        -0.17777778, -0.04141414,  0.14747475,  0.38484848,  0.6666667 ,\n",
       "         0.22121212, -0.10707071, -0.32222223, -0.42828283, -0.42929292,\n",
       "        -0.32929292, -0.13232324,  0.15757576,  0.53636366,  1.        ,\n",
       "         0.53636366,  0.15757576, -0.13232324, -0.32929292, -0.42929292,\n",
       "        -0.42828283, -0.32222223, -0.10707071,  0.22121212,  0.6666667 ,\n",
       "         0.38484848,  0.14747475, -0.04141414, -0.17777778, -0.25757575,\n",
       "        -0.27676767, -0.23131312, -0.11717172,  0.06969697,  0.33333334,\n",
       "         0.23333333,  0.13737373,  0.04949495, -0.02626263, -0.08585858,\n",
       "        -0.12525253, -0.14040405, -0.12727273, -0.08181818], dtype=float32),\n",
       " <matplotlib.collections.LineCollection at 0x236c58f31d0>,\n",
       " <matplotlib.lines.Line2D at 0x236c5887f60>)"
      ]
     },
     "execution_count": 14,
     "metadata": {},
     "output_type": "execute_result"
    },
    {
     "data": {
      "image/png": "[encoded data removed]",
      "text/plain": [
       "<Figure size 432x288 with 1 Axes>"
      ]
     },
     "metadata": {
      "needs_background": "light"
     },
     "output_type": "display_data"
    }
   ],
   "source": [
    "fig, ax = plt.subplots()\n",
    "ax.set_xlim(-1, 30)\n",
    "plt.acorr(b.astype('f')-b.mean(), maxlags=None)"
   ]
  },
  {
   "cell_type": "markdown",
   "metadata": {},
   "source": [
    "## 参考資料\n",
    "\n",
    "* [Rob J Hyndman and George Athanasopoulos, Forecasting: Principles and Practice: 2.8 Autocorrelation](https://otexts.com/fpp2/autocorrelation.html)\n",
    "* [もものきとデータ解析をはじめよう: Pythonで時系列分析の練習（7）自己相関](https://momonoki2017.blogspot.com/2018/03/python7.html)\n",
    "* [Stack Overflow: bug of autocorrelation plot in matplotlib‘s plt.acorr?\n",
    "](https://stackoverflow.com/questions/27541290/bug-of-autocorrelation-plot-in-matplotlib-s-plt-acorr)\n",
    "* James H. Stock, Mark W. Watson, Introduction to Econometrics, 3rd Edition, Pearson, 2011, p. 572-575\n",
    "* [Christoph Hanck, Martin Arnold, Alexander Gerber and Martin Schmelzer, Introduction to Econometrics with R: 14.2 Time Series Data and Serial Correlation](https://www.econometrics-with-r.org/14-2-tsdasc.html)"
   ]
  },
  {
   "cell_type": "markdown",
   "metadata": {},
   "source": [
    "## 備考\n",
    "この記事は[クリエイティブ・コモンズ 表示 4.0 国際 ライセンス](https://creativecommons.org/licenses/by/4.0/deed.ja)の下に提供されています。\n",
    "\n",
    "<a rel=\"license\" href=\"https://creativecommons.org/licenses/by/4.0/deed.ja\"><img alt=\"クリエイティブ・コモンズ・ライセンス\" style=\"border-width:0\" src=\"https://i.creativecommons.org/l/by/4.0/88x31.png\" /></a>"
   ]
  }
 ],
 "metadata": {
  "kernelspec": {
   "display_name": "Python 3",
   "language": "python",
   "name": "python3"
  },
  "language_info": {
   "codemirror_mode": {
    "name": "ipython",
    "version": 3
   },
   "file_extension": ".py",
   "mimetype": "text/x-python",
   "name": "python",
   "nbconvert_exporter": "python",
   "pygments_lexer": "ipython3",
   "version": "3.7.3"
  }
 },
 "nbformat": 4,
 "nbformat_minor": 2
}
